{
  "nbformat": 4,
  "nbformat_minor": 0,
  "metadata": {
    "colab": {
      "provenance": [],
      "authorship_tag": "ABX9TyOefQ22q0B5U7aGlTASNqbq",
      "include_colab_link": true
    },
    "kernelspec": {
      "name": "python3",
      "display_name": "Python 3"
    },
    "language_info": {
      "name": "python"
    }
  },
  "cells": [
    {
      "cell_type": "markdown",
      "metadata": {
        "id": "view-in-github",
        "colab_type": "text"
      },
      "source": [
        "<a href=\"https://colab.research.google.com/github/me-t1me/DIP_assignment_2/blob/master/DIP_2_Q1.ipynb\" target=\"_parent\"><img src=\"https://colab.research.google.com/assets/colab-badge.svg\" alt=\"Open In Colab\"/></a>"
      ]
    },
    {
      "cell_type": "code",
      "source": [
        "import cv2\n",
        "import numpy as np\n",
        "from skimage.metrics import peak_signal_noise_ratio as psnr\n",
        "from skimage.metrics import mean_squared_error as mse"
      ],
      "metadata": {
        "id": "Za-OmIzgBO0q"
      },
      "execution_count": 1,
      "outputs": []
    },
    {
      "cell_type": "code",
      "source": [
        "!wget \"https://raw.githubusercontent.com/me-t1me/DIP_assignment_2/master/xray.png\"\n",
        "!wget \"https://raw.githubusercontent.com/me-t1me/DIP_assignment_2/master/xray_sp.png\""
      ],
      "metadata": {
        "colab": {
          "base_uri": "https://localhost:8080/"
        },
        "id": "JztMYo39_Pp5",
        "outputId": "a7c91a0b-5a26-40d7-ff4b-e701860c1f63"
      },
      "execution_count": 2,
      "outputs": [
        {
          "output_type": "stream",
          "name": "stdout",
          "text": [
            "--2023-04-29 04:33:07--  https://raw.githubusercontent.com/me-t1me/DIP_assignment_2/master/xray.png\n",
            "Resolving raw.githubusercontent.com (raw.githubusercontent.com)... 185.199.108.133, 185.199.109.133, 185.199.110.133, ...\n",
            "Connecting to raw.githubusercontent.com (raw.githubusercontent.com)|185.199.108.133|:443... connected.\n",
            "HTTP request sent, awaiting response... 200 OK\n",
            "Length: 369053 (360K) [image/png]\n",
            "Saving to: ‘xray.png’\n",
            "\n",
            "xray.png            100%[===================>] 360.40K  --.-KB/s    in 0.01s   \n",
            "\n",
            "2023-04-29 04:33:07 (28.5 MB/s) - ‘xray.png’ saved [369053/369053]\n",
            "\n",
            "--2023-04-29 04:33:07--  https://raw.githubusercontent.com/me-t1me/DIP_assignment_2/master/xray_sp.png\n",
            "Resolving raw.githubusercontent.com (raw.githubusercontent.com)... 185.199.108.133, 185.199.109.133, 185.199.110.133, ...\n",
            "Connecting to raw.githubusercontent.com (raw.githubusercontent.com)|185.199.108.133|:443... connected.\n",
            "HTTP request sent, awaiting response... 200 OK\n",
            "Length: 397248 (388K) [image/png]\n",
            "Saving to: ‘xray_sp.png’\n",
            "\n",
            "xray_sp.png         100%[===================>] 387.94K  --.-KB/s    in 0.01s   \n",
            "\n",
            "2023-04-29 04:33:08 (28.7 MB/s) - ‘xray_sp.png’ saved [397248/397248]\n",
            "\n"
          ]
        }
      ]
    },
    {
      "cell_type": "code",
      "execution_count": 3,
      "metadata": {
        "id": "0kJSywon72Yp"
      },
      "outputs": [],
      "source": [
        "# Load the original X-ray image\n",
        "img = cv2.imread('xray.png', 0)\n",
        "\n",
        "# Load the salt & pepper noise-based contaminated X-ray image\n",
        "img_sp = cv2.imread('xray_sp.png', 0)"
      ]
    },
    {
      "cell_type": "code",
      "source": [
        "# Apply median filter to the contaminated X-ray image\n",
        "img_median = cv2.medianBlur(img_sp, 3)\n",
        "\n",
        "# Apply max filter to the contaminated X-ray image\n",
        "kernel = np.ones((3, 3), np.uint8)\n",
        "img_max = cv2.dilate(img_sp, kernel, iterations=1)\n",
        "\n",
        "# Apply min filter to the contaminated X-ray image\n",
        "img_min = cv2.erode(img_sp, kernel, iterations=1)\n",
        "\n",
        "# Apply alpha-trimmed mean filter to the contaminated X-ray image\n",
        "def alpha_trimmed_mean_filter(image, kernel_size=3, alpha=0.5):\n",
        "    # Pad the image with zeros\n",
        "    padded = cv2.copyMakeBorder(image, kernel_size // 2, kernel_size // 2,\n",
        "                                kernel_size // 2, kernel_size // 2,\n",
        "                                cv2.BORDER_CONSTANT, value=0)\n",
        "\n",
        "    # Loop over all pixels in the image\n",
        "    filtered = np.zeros_like(image)\n",
        "    for y in range(kernel_size // 2, image.shape[0] + kernel_size // 2):\n",
        "        for x in range(kernel_size // 2, image.shape[1] + kernel_size // 2):\n",
        "            # Extract the kernel centered at the current pixel\n",
        "            kernel = padded[y - kernel_size // 2:y + kernel_size // 2 + 1,\n",
        "                            x - kernel_size // 2:x + kernel_size // 2 + 1]\n",
        "\n",
        "            # Sort the pixel values and remove the specified number of trimmed pixels\n",
        "            sorted_kernel = np.sort(kernel.flatten())\n",
        "            trimmed_kernel = sorted_kernel[int(alpha*kernel_size*kernel_size) : -1*int(alpha*kernel_size*kernel_size)]\n",
        "\n",
        "            # Compute the mean of the remaining pixel values\n",
        "            filtered[y - kernel_size // 2, x - kernel_size // 2] = np.mean(trimmed_kernel)\n",
        "\n",
        "    return filtered.astype(np.uint8)\n",
        "\n",
        "img_at_mean = alpha_trimmed_mean_filter(img_sp)\n",
        "# img_at_mean = cv2.boxFilter(img_sp, -1, (5,5), normalize=False)\n",
        "\n",
        "# Evaluate the SNR and RMSE values for the filtered images using the original X-ray image as a reference\n",
        "snr_median = psnr(img, img_median)\n",
        "rmse_median = np.sqrt(mse(img, img_median))\n",
        "\n",
        "snr_max = psnr(img, img_max)\n",
        "rmse_max = np.sqrt(mse(img, img_max))\n",
        "\n",
        "snr_min = psnr(img, img_min)\n",
        "rmse_min = np.sqrt(mse(img, img_min))\n",
        "\n",
        "snr_at_mean = psnr(img, img_at_mean)\n",
        "rmse_at_mean = np.sqrt(mse(img, img_at_mean))\n",
        "\n",
        "print(\"SNR Median: \", snr_median)\n",
        "print(\"RMSE Median: \", rmse_median)\n",
        "\n",
        "print(\"SNR Max: \", snr_max)\n",
        "print(\"RMSE Max: \", rmse_max)\n",
        "\n",
        "print(\"SNR Min: \", snr_min)\n",
        "print(\"RMSE Min: \", rmse_min)\n",
        "\n",
        "print(\"SNR Alpha-Trimmed Mean: \", snr_at_mean)\n",
        "print(\"RMSE Alpha-Trimmed Mean: \", rmse_at_mean)\n"
      ],
      "metadata": {
        "colab": {
          "base_uri": "https://localhost:8080/"
        },
        "id": "nxfQ2Fju8w0Q",
        "outputId": "275e8a99-285d-4ee0-f69e-024d7835d157"
      },
      "execution_count": 9,
      "outputs": [
        {
          "output_type": "stream",
          "name": "stdout",
          "text": [
            "SNR Median:  45.86795333323992\n",
            "RMSE Median:  1.2976050103237822\n",
            "SNR Max:  19.846847585896857\n",
            "RMSE Max:  25.95361160474386\n",
            "SNR Min:  22.13191991959036\n",
            "RMSE Min:  19.95005900247592\n",
            "SNR Alpha-Trimmed Mean:  47.723691899767466\n",
            "RMSE Alpha-Trimmed Mean:  1.0479862521194387\n"
          ]
        }
      ]
    },
    {
      "cell_type": "code",
      "source": [],
      "metadata": {
        "id": "fqdXCOB4_yop"
      },
      "execution_count": 5,
      "outputs": []
    }
  ]
}