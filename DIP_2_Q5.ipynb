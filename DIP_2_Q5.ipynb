{
  "nbformat": 4,
  "nbformat_minor": 0,
  "metadata": {
    "colab": {
      "provenance": [],
      "include_colab_link": true
    },
    "kernelspec": {
      "name": "python3",
      "display_name": "Python 3"
    },
    "language_info": {
      "name": "python"
    },
    "accelerator": "GPU",
    "gpuClass": "standard"
  },
  "cells": [
    {
      "cell_type": "markdown",
      "metadata": {
        "id": "view-in-github",
        "colab_type": "text"
      },
      "source": [
        "<a href=\"https://colab.research.google.com/github/me-t1me/DIP_assignment_2/blob/master/DIP_2_Q5.ipynb\" target=\"_parent\"><img src=\"https://colab.research.google.com/assets/colab-badge.svg\" alt=\"Open In Colab\"/></a>"
      ]
    },
    {
      "cell_type": "code",
      "execution_count": 1,
      "metadata": {
        "colab": {
          "base_uri": "https://localhost:8080/"
        },
        "id": "5ec27wCEfTK8",
        "outputId": "6d454672-597f-4b32-d72a-46afd50e1e8e"
      },
      "outputs": [
        {
          "output_type": "stream",
          "name": "stdout",
          "text": [
            "Mon Apr 24 03:19:59 2023       \n",
            "+-----------------------------------------------------------------------------+\n",
            "| NVIDIA-SMI 525.85.12    Driver Version: 525.85.12    CUDA Version: 12.0     |\n",
            "|-------------------------------+----------------------+----------------------+\n",
            "| GPU  Name        Persistence-M| Bus-Id        Disp.A | Volatile Uncorr. ECC |\n",
            "| Fan  Temp  Perf  Pwr:Usage/Cap|         Memory-Usage | GPU-Util  Compute M. |\n",
            "|                               |                      |               MIG M. |\n",
            "|===============================+======================+======================|\n",
            "|   0  Tesla T4            Off  | 00000000:00:04.0 Off |                    0 |\n",
            "| N/A   68C    P8    11W /  70W |      0MiB / 15360MiB |      0%      Default |\n",
            "|                               |                      |                  N/A |\n",
            "+-------------------------------+----------------------+----------------------+\n",
            "                                                                               \n",
            "+-----------------------------------------------------------------------------+\n",
            "| Processes:                                                                  |\n",
            "|  GPU   GI   CI        PID   Type   Process name                  GPU Memory |\n",
            "|        ID   ID                                                   Usage      |\n",
            "|=============================================================================|\n",
            "|  No running processes found                                                 |\n",
            "+-----------------------------------------------------------------------------+\n"
          ]
        }
      ],
      "source": [
        "!nvidia-smi"
      ]
    },
    {
      "cell_type": "code",
      "source": [
        "from google.colab import drive\n",
        "drive.mount(\"/content/drive\")"
      ],
      "metadata": {
        "colab": {
          "base_uri": "https://localhost:8080/"
        },
        "id": "QfLSSFANf2gL",
        "outputId": "2a475d6a-f085-423f-8e66-1d2772bcfac6"
      },
      "execution_count": 2,
      "outputs": [
        {
          "output_type": "stream",
          "name": "stdout",
          "text": [
            "Mounted at /content/drive\n"
          ]
        }
      ]
    },
    {
      "cell_type": "code",
      "source": [
        "import tensorflow as tf\n",
        "from tensorflow.keras.preprocessing.image import ImageDataGenerator\n",
        "from tensorflow.keras.optimizers import Adam\n",
        "from tensorflow.keras.metrics import Recall, Precision\n",
        "\n",
        "from tensorflow.keras.callbacks import ReduceLROnPlateau\n",
        "\n",
        "from tensorflow.keras.models import Sequential, Model\n",
        "from tensorflow.keras.layers import Dense, Flatten, Dropout\n",
        "\n",
        "from tensorflow.keras.preprocessing.image import ImageDataGenerator\n",
        "from tensorflow.keras.applications.vgg16 import VGG16\n",
        "from tensorflow.keras.applications.vgg19 import VGG19\n",
        "from tensorflow.keras.applications.resnet50 import ResNet50\n",
        "from tensorflow.keras.applications.inception_v3 import InceptionV3\n",
        "from tensorflow.keras.applications.xception import Xception\n",
        "\n",
        "import matplotlib.pyplot as plt"
      ],
      "metadata": {
        "id": "z7NI54Pbk70m"
      },
      "execution_count": 3,
      "outputs": []
    },
    {
      "cell_type": "code",
      "source": [
        "img_size = 224"
      ],
      "metadata": {
        "id": "VDxqBZ3G2vKG"
      },
      "execution_count": 4,
      "outputs": []
    },
    {
      "cell_type": "code",
      "source": [
        "def show_history(model_history):\n",
        "  loss = model_history.history['loss']\n",
        "  val_loss = model_history.history['val_loss']\n",
        "\n",
        "  plt.figure()\n",
        "  plt.plot(model_history.epoch, loss, 'r', label='Training loss')\n",
        "  plt.plot(model_history.epoch, val_loss, 'bo', label='Validation loss')\n",
        "  plt.title('Training and Validation Loss')\n",
        "  plt.xlabel('Epoch')\n",
        "  plt.ylabel('Loss Value')\n",
        "  plt.ylim([0, 1])\n",
        "  plt.legend()\n",
        "  plt.show()"
      ],
      "metadata": {
        "id": "k2uquoAF8qcE"
      },
      "execution_count": 5,
      "outputs": []
    },
    {
      "cell_type": "markdown",
      "source": [
        "# Making dataset"
      ],
      "metadata": {
        "id": "1gnb0Qplji1m"
      }
    },
    {
      "cell_type": "code",
      "source": [
        "tf.random.set_seed(42)\n",
        "\n",
        "# Preprocess data (get all of the pixel values between 1 and 0, also called scaling/normalization)\n",
        "train_datagen = ImageDataGenerator(rescale=1./255)\n",
        "valid_datagen = ImageDataGenerator(rescale=1./255)\n",
        "test_datagen = ImageDataGenerator(rescale=1./255)\n",
        "\n",
        "# Setup the train and test directories\n",
        "# train_dir = \"/content/drive/MyDrive/DIP_Q5/train\"\n",
        "# test_dir = \"/content/drive/MyDrive/DIP_Q5/test\"\n",
        "# valid_dir = \"/content/drive/MyDrive/DIP_Q5/validate\"\n",
        "train_dir = \"/content/drive/MyDrive/DIP_Q5/train\"\n",
        "test_dir = \"/content/drive/MyDrive/DIP_Q5/test\"\n",
        "valid_dir = \"/content/drive/MyDrive/DIP_Q5/validate\"\n",
        "\n",
        "\n",
        "# Import data from directories and turn it into batches\n",
        "train_data = train_datagen.flow_from_directory(train_dir,\n",
        "                                               batch_size=32, # number of images to process at a time \n",
        "                                               target_size=(224, 224), # convert all images to be 224 x 224\n",
        "                                               class_mode=\"binary\", # type of problem we're working on\n",
        "                                               seed=42)\n",
        "\n",
        "valid_data = valid_datagen.flow_from_directory(valid_dir,\n",
        "                                               batch_size=32,\n",
        "                                               target_size=(224, 224),\n",
        "                                               class_mode=\"binary\",\n",
        "                                               seed=42)\n",
        "\n",
        "test_data = valid_datagen.flow_from_directory(test_dir,\n",
        "                                               batch_size=32,\n",
        "                                               target_size=(224, 224),\n",
        "                                               class_mode=\"binary\",\n",
        "                                               seed=42)"
      ],
      "metadata": {
        "colab": {
          "base_uri": "https://localhost:8080/"
        },
        "id": "zAwIfQ5Sf2uy",
        "outputId": "018f7deb-f9f2-4ff1-ea73-4f4bcc356fac"
      },
      "execution_count": 6,
      "outputs": [
        {
          "output_type": "stream",
          "name": "stdout",
          "text": [
            "Found 980 images belonging to 2 classes.\n",
            "Found 140 images belonging to 2 classes.\n",
            "Found 280 images belonging to 2 classes.\n"
          ]
        }
      ]
    },
    {
      "cell_type": "markdown",
      "source": [
        "# VGG16"
      ],
      "metadata": {
        "id": "BbAxJhmW2Z1t"
      }
    },
    {
      "cell_type": "code",
      "source": [
        "vgg16 = VGG16(include_top=False, weights='imagenet', input_shape=(img_size, img_size, 3))"
      ],
      "metadata": {
        "colab": {
          "base_uri": "https://localhost:8080/"
        },
        "id": "WtUIKN0o1ow0",
        "outputId": "3eb57528-63c3-437e-dc9c-45b95b3f1d28"
      },
      "execution_count": 7,
      "outputs": [
        {
          "output_type": "stream",
          "name": "stdout",
          "text": [
            "Downloading data from https://storage.googleapis.com/tensorflow/keras-applications/vgg16/vgg16_weights_tf_dim_ordering_tf_kernels_notop.h5\n",
            "58889256/58889256 [==============================] - 4s 0us/step\n"
          ]
        }
      ]
    },
    {
      "cell_type": "code",
      "source": [
        "vgg16.trainable = False "
      ],
      "metadata": {
        "id": "LYtR1zIO24CM"
      },
      "execution_count": 8,
      "outputs": []
    },
    {
      "cell_type": "code",
      "source": [
        "vgg16.summary()"
      ],
      "metadata": {
        "colab": {
          "base_uri": "https://localhost:8080/"
        },
        "id": "ccJYPc1Z3EX4",
        "outputId": "bd743905-2beb-4913-aa3d-a31a2f234722"
      },
      "execution_count": 9,
      "outputs": [
        {
          "output_type": "stream",
          "name": "stdout",
          "text": [
            "Model: \"vgg16\"\n",
            "_________________________________________________________________\n",
            " Layer (type)                Output Shape              Param #   \n",
            "=================================================================\n",
            " input_1 (InputLayer)        [(None, 224, 224, 3)]     0         \n",
            "                                                                 \n",
            " block1_conv1 (Conv2D)       (None, 224, 224, 64)      1792      \n",
            "                                                                 \n",
            " block1_conv2 (Conv2D)       (None, 224, 224, 64)      36928     \n",
            "                                                                 \n",
            " block1_pool (MaxPooling2D)  (None, 112, 112, 64)      0         \n",
            "                                                                 \n",
            " block2_conv1 (Conv2D)       (None, 112, 112, 128)     73856     \n",
            "                                                                 \n",
            " block2_conv2 (Conv2D)       (None, 112, 112, 128)     147584    \n",
            "                                                                 \n",
            " block2_pool (MaxPooling2D)  (None, 56, 56, 128)       0         \n",
            "                                                                 \n",
            " block3_conv1 (Conv2D)       (None, 56, 56, 256)       295168    \n",
            "                                                                 \n",
            " block3_conv2 (Conv2D)       (None, 56, 56, 256)       590080    \n",
            "                                                                 \n",
            " block3_conv3 (Conv2D)       (None, 56, 56, 256)       590080    \n",
            "                                                                 \n",
            " block3_pool (MaxPooling2D)  (None, 28, 28, 256)       0         \n",
            "                                                                 \n",
            " block4_conv1 (Conv2D)       (None, 28, 28, 512)       1180160   \n",
            "                                                                 \n",
            " block4_conv2 (Conv2D)       (None, 28, 28, 512)       2359808   \n",
            "                                                                 \n",
            " block4_conv3 (Conv2D)       (None, 28, 28, 512)       2359808   \n",
            "                                                                 \n",
            " block4_pool (MaxPooling2D)  (None, 14, 14, 512)       0         \n",
            "                                                                 \n",
            " block5_conv1 (Conv2D)       (None, 14, 14, 512)       2359808   \n",
            "                                                                 \n",
            " block5_conv2 (Conv2D)       (None, 14, 14, 512)       2359808   \n",
            "                                                                 \n",
            " block5_conv3 (Conv2D)       (None, 14, 14, 512)       2359808   \n",
            "                                                                 \n",
            " block5_pool (MaxPooling2D)  (None, 7, 7, 512)         0         \n",
            "                                                                 \n",
            "=================================================================\n",
            "Total params: 14,714,688\n",
            "Trainable params: 0\n",
            "Non-trainable params: 14,714,688\n",
            "_________________________________________________________________\n"
          ]
        }
      ]
    },
    {
      "cell_type": "code",
      "source": [
        "vgg16_model = Sequential()\n",
        "vgg16_model.add(vgg16)\n",
        "vgg16_model.add(Flatten())\n",
        "vgg16_model.add(Dense(256, activation='relu'))\n",
        "vgg16_model.add(Dropout(0.5))\n",
        "vgg16_model.add(Dense(1, activation='sigmoid'))"
      ],
      "metadata": {
        "id": "fIEp6osD3G2z"
      },
      "execution_count": 10,
      "outputs": []
    },
    {
      "cell_type": "code",
      "source": [
        "vgg16_model.summary()"
      ],
      "metadata": {
        "colab": {
          "base_uri": "https://localhost:8080/"
        },
        "id": "AlB0_wY_3vRc",
        "outputId": "114ba511-cf89-4abe-9070-fa3a9d47350f"
      },
      "execution_count": 11,
      "outputs": [
        {
          "output_type": "stream",
          "name": "stdout",
          "text": [
            "Model: \"sequential\"\n",
            "_________________________________________________________________\n",
            " Layer (type)                Output Shape              Param #   \n",
            "=================================================================\n",
            " vgg16 (Functional)          (None, 7, 7, 512)         14714688  \n",
            "                                                                 \n",
            " flatten (Flatten)           (None, 25088)             0         \n",
            "                                                                 \n",
            " dense (Dense)               (None, 256)               6422784   \n",
            "                                                                 \n",
            " dropout (Dropout)           (None, 256)               0         \n",
            "                                                                 \n",
            " dense_1 (Dense)             (None, 1)                 257       \n",
            "                                                                 \n",
            "=================================================================\n",
            "Total params: 21,137,729\n",
            "Trainable params: 6,423,041\n",
            "Non-trainable params: 14,714,688\n",
            "_________________________________________________________________\n"
          ]
        }
      ]
    },
    {
      "cell_type": "code",
      "source": [
        "vgg16_model.compile(optimizer=Adam(learning_rate=0.0001),\n",
        "              loss=tf.keras.losses.BinaryCrossentropy(from_logits=False),\n",
        "              metrics=['accuracy'])"
      ],
      "metadata": {
        "id": "-_lNLQfl3zrj"
      },
      "execution_count": 12,
      "outputs": []
    },
    {
      "cell_type": "code",
      "source": [
        "vgg16_history = vgg16_model.fit(train_data,\n",
        "                        epochs=5,\n",
        "                        # steps_per_epoch=len(train_data),\n",
        "                        validation_data=valid_data,\n",
        "                        # validation_steps=len(valid_data)\n",
        "                        )"
      ],
      "metadata": {
        "colab": {
          "base_uri": "https://localhost:8080/"
        },
        "id": "ua618_uB4LzP",
        "outputId": "c5139438-178f-4e0e-e5b0-e5b8c7b11f55"
      },
      "execution_count": 13,
      "outputs": [
        {
          "output_type": "stream",
          "name": "stdout",
          "text": [
            "Epoch 1/5\n",
            "31/31 [==============================] - 379s 12s/step - loss: 0.1564 - accuracy: 0.9459 - val_loss: 0.0315 - val_accuracy: 1.0000\n",
            "Epoch 2/5\n",
            "31/31 [==============================] - 12s 389ms/step - loss: 0.0226 - accuracy: 0.9959 - val_loss: 0.0104 - val_accuracy: 1.0000\n",
            "Epoch 3/5\n",
            "31/31 [==============================] - 12s 381ms/step - loss: 0.0164 - accuracy: 0.9980 - val_loss: 0.0052 - val_accuracy: 1.0000\n",
            "Epoch 4/5\n",
            "31/31 [==============================] - 12s 372ms/step - loss: 0.0109 - accuracy: 0.9980 - val_loss: 0.0043 - val_accuracy: 1.0000\n",
            "Epoch 5/5\n",
            "31/31 [==============================] - 12s 369ms/step - loss: 0.0065 - accuracy: 1.0000 - val_loss: 0.0031 - val_accuracy: 1.0000\n"
          ]
        }
      ]
    },
    {
      "cell_type": "code",
      "source": [
        "show_history(vgg16_history)"
      ],
      "metadata": {
        "id": "D34qS9ch88LZ",
        "colab": {
          "base_uri": "https://localhost:8080/",
          "height": 472
        },
        "outputId": "b84dcafd-e352-488c-f87f-516fc06e723c"
      },
      "execution_count": 14,
      "outputs": [
        {
          "output_type": "display_data",
          "data": {
            "text/plain": [
              "<Figure size 640x480 with 1 Axes>"
            ],
            "image/png": "[encoded data removed]"
          },
          "metadata": {}
        }
      ]
    },
    {
      "cell_type": "markdown",
      "source": [
        "# VGG19 model"
      ],
      "metadata": {
        "id": "0uUko10F7hmT"
      }
    },
    {
      "cell_type": "code",
      "source": [
        "vgg19 = VGG19(include_top=False, weights='imagenet', input_shape=(img_size, img_size, 3))\n",
        "\n",
        "vgg19.trainable = False\n",
        "\n",
        "vgg19_model = Sequential()\n",
        "vgg19_model.add(vgg19)\n",
        "vgg19_model.add(Flatten())\n",
        "vgg19_model.add(Dense(256, activation='relu'))\n",
        "vgg19_model.add(Dropout(0.5))\n",
        "vgg19_model.add(Dense(1, activation='sigmoid'))"
      ],
      "metadata": {
        "id": "6rGQu1yP7kPV",
        "colab": {
          "base_uri": "https://localhost:8080/"
        },
        "outputId": "ffa68671-fea5-46e5-b78d-b58fe92fc061"
      },
      "execution_count": 15,
      "outputs": [
        {
          "output_type": "stream",
          "name": "stdout",
          "text": [
            "Downloading data from https://storage.googleapis.com/tensorflow/keras-applications/vgg19/vgg19_weights_tf_dim_ordering_tf_kernels_notop.h5\n",
            "80134624/80134624 [==============================] - 5s 0us/step\n"
          ]
        }
      ]
    },
    {
      "cell_type": "code",
      "source": [
        "vgg19_model.summary()"
      ],
      "metadata": {
        "id": "3LqE4hE1745R",
        "colab": {
          "base_uri": "https://localhost:8080/"
        },
        "outputId": "95e0f348-06b8-4f83-c7f4-2141186fd7ec"
      },
      "execution_count": 16,
      "outputs": [
        {
          "output_type": "stream",
          "name": "stdout",
          "text": [
            "Model: \"sequential_1\"\n",
            "_________________________________________________________________\n",
            " Layer (type)                Output Shape              Param #   \n",
            "=================================================================\n",
            " vgg19 (Functional)          (None, 7, 7, 512)         20024384  \n",
            "                                                                 \n",
            " flatten_1 (Flatten)         (None, 25088)             0         \n",
            "                                                                 \n",
            " dense_2 (Dense)             (None, 256)               6422784   \n",
            "                                                                 \n",
            " dropout_1 (Dropout)         (None, 256)               0         \n",
            "                                                                 \n",
            " dense_3 (Dense)             (None, 1)                 257       \n",
            "                                                                 \n",
            "=================================================================\n",
            "Total params: 26,447,425\n",
            "Trainable params: 6,423,041\n",
            "Non-trainable params: 20,024,384\n",
            "_________________________________________________________________\n"
          ]
        }
      ]
    },
    {
      "cell_type": "code",
      "source": [
        "vgg19_model.compile(optimizer=Adam(learning_rate=0.0001),\n",
        "              loss=tf.keras.losses.BinaryCrossentropy(from_logits=False),\n",
        "              metrics=['accuracy'])"
      ],
      "metadata": {
        "id": "pjcFl0I6750B"
      },
      "execution_count": 17,
      "outputs": []
    },
    {
      "cell_type": "code",
      "source": [
        "vgg19_history = vgg19_model.fit(train_data,\n",
        "                        epochs=5,\n",
        "                        # steps_per_epoch=len(train_data),\n",
        "                        validation_data=valid_data,\n",
        "                        # validation_steps=len(valid_data)\n",
        "                        )"
      ],
      "metadata": {
        "id": "JwlPyJb47-O_",
        "colab": {
          "base_uri": "https://localhost:8080/"
        },
        "outputId": "ff5cbfc5-2f02-45f7-b813-d742ca3c99fa"
      },
      "execution_count": 18,
      "outputs": [
        {
          "output_type": "stream",
          "name": "stdout",
          "text": [
            "Epoch 1/5\n",
            "31/31 [==============================] - 14s 408ms/step - loss: 0.2218 - accuracy: 0.9041 - val_loss: 0.0233 - val_accuracy: 1.0000\n",
            "Epoch 2/5\n",
            "31/31 [==============================] - 12s 379ms/step - loss: 0.0413 - accuracy: 0.9908 - val_loss: 0.0137 - val_accuracy: 1.0000\n",
            "Epoch 3/5\n",
            "31/31 [==============================] - 13s 402ms/step - loss: 0.0193 - accuracy: 0.9969 - val_loss: 0.0079 - val_accuracy: 1.0000\n",
            "Epoch 4/5\n",
            "31/31 [==============================] - 12s 397ms/step - loss: 0.0133 - accuracy: 0.9990 - val_loss: 0.0055 - val_accuracy: 1.0000\n",
            "Epoch 5/5\n",
            "31/31 [==============================] - 12s 391ms/step - loss: 0.0107 - accuracy: 1.0000 - val_loss: 0.0044 - val_accuracy: 1.0000\n"
          ]
        }
      ]
    },
    {
      "cell_type": "code",
      "source": [
        "show_history(vgg19_history)"
      ],
      "metadata": {
        "id": "1d-16kbL9Db0",
        "colab": {
          "base_uri": "https://localhost:8080/",
          "height": 472
        },
        "outputId": "187259bc-520b-4edd-ecd0-ecba1169e53e"
      },
      "execution_count": 19,
      "outputs": [
        {
          "output_type": "display_data",
          "data": {
            "text/plain": [
              "<Figure size 640x480 with 1 Axes>"
            ],
            "image/png": "[encoded data removed]"
          },
          "metadata": {}
        }
      ]
    },
    {
      "cell_type": "markdown",
      "source": [
        "# resnet50"
      ],
      "metadata": {
        "id": "Zj_yRwjp6Hr2"
      }
    },
    {
      "cell_type": "code",
      "source": [
        "resnet50 = ResNet50(include_top=False, weights='imagenet', input_shape=(img_size, img_size, 3))\n",
        "resnet50.trainable = False\n",
        "\n",
        "resnet50_model = Sequential()\n",
        "resnet50_model.add(resnet50)\n",
        "resnet50_model.add(Flatten())\n",
        "resnet50_model.add(Dense(256, activation='relu'))\n",
        "resnet50_model.add(Dropout(0.5))\n",
        "resnet50_model.add(Dense(1, activation='sigmoid'))"
      ],
      "metadata": {
        "id": "o8wO4Nv74bY2",
        "colab": {
          "base_uri": "https://localhost:8080/"
        },
        "outputId": "4b212eee-9de9-453e-8e03-870cf029c8f2"
      },
      "execution_count": 20,
      "outputs": [
        {
          "output_type": "stream",
          "name": "stdout",
          "text": [
            "Downloading data from https://storage.googleapis.com/tensorflow/keras-applications/resnet/resnet50_weights_tf_dim_ordering_tf_kernels_notop.h5\n",
            "94765736/94765736 [==============================] - 5s 0us/step\n"
          ]
        }
      ]
    },
    {
      "cell_type": "code",
      "source": [
        "resnet50_model.summary()"
      ],
      "metadata": {
        "id": "z4kS9RU96YSH",
        "colab": {
          "base_uri": "https://localhost:8080/"
        },
        "outputId": "8e417135-501f-4a4a-c46c-4eb544e1bb4d"
      },
      "execution_count": 21,
      "outputs": [
        {
          "output_type": "stream",
          "name": "stdout",
          "text": [
            "Model: \"sequential_2\"\n",
            "_________________________________________________________________\n",
            " Layer (type)                Output Shape              Param #   \n",
            "=================================================================\n",
            " resnet50 (Functional)       (None, 7, 7, 2048)        23587712  \n",
            "                                                                 \n",
            " flatten_2 (Flatten)         (None, 100352)            0         \n",
            "                                                                 \n",
            " dense_4 (Dense)             (None, 256)               25690368  \n",
            "                                                                 \n",
            " dropout_2 (Dropout)         (None, 256)               0         \n",
            "                                                                 \n",
            " dense_5 (Dense)             (None, 1)                 257       \n",
            "                                                                 \n",
            "=================================================================\n",
            "Total params: 49,278,337\n",
            "Trainable params: 25,690,625\n",
            "Non-trainable params: 23,587,712\n",
            "_________________________________________________________________\n"
          ]
        }
      ]
    },
    {
      "cell_type": "code",
      "source": [
        "resnet50_model.compile(optimizer=Adam(learning_rate=0.0001),\n",
        "              loss=tf.keras.losses.BinaryCrossentropy(from_logits=False),\n",
        "              metrics=['accuracy'])"
      ],
      "metadata": {
        "id": "hQ-KfRFq6bMd"
      },
      "execution_count": 22,
      "outputs": []
    },
    {
      "cell_type": "code",
      "source": [
        "resnet50_history = resnet50_model.fit(train_data,\n",
        "                        epochs=5,\n",
        "                        # steps_per_epoch=len(train_data),\n",
        "                        validation_data=valid_data,\n",
        "                        # validation_steps=len(valid_data)\n",
        "                        )"
      ],
      "metadata": {
        "id": "ihIfIXS76fQq",
        "colab": {
          "base_uri": "https://localhost:8080/"
        },
        "outputId": "09e84ef3-7e4f-42c2-8edd-1d65f7a75dd5"
      },
      "execution_count": 23,
      "outputs": [
        {
          "output_type": "stream",
          "name": "stdout",
          "text": [
            "Epoch 1/5\n",
            "31/31 [==============================] - 19s 457ms/step - loss: 0.8380 - accuracy: 0.5347 - val_loss: 0.6153 - val_accuracy: 0.6500\n",
            "Epoch 2/5\n",
            "31/31 [==============================] - 12s 389ms/step - loss: 0.6442 - accuracy: 0.6102 - val_loss: 0.5836 - val_accuracy: 0.8357\n",
            "Epoch 3/5\n",
            "31/31 [==============================] - 12s 379ms/step - loss: 0.5710 - accuracy: 0.7347 - val_loss: 0.5171 - val_accuracy: 0.9071\n",
            "Epoch 4/5\n",
            "31/31 [==============================] - 11s 353ms/step - loss: 0.5454 - accuracy: 0.7327 - val_loss: 0.4851 - val_accuracy: 0.9000\n",
            "Epoch 5/5\n",
            "31/31 [==============================] - 12s 384ms/step - loss: 0.4982 - accuracy: 0.8204 - val_loss: 0.4362 - val_accuracy: 0.9357\n"
          ]
        }
      ]
    },
    {
      "cell_type": "code",
      "source": [
        "show_history(resnet50_history)"
      ],
      "metadata": {
        "id": "lnIrol7i9Hmd",
        "colab": {
          "base_uri": "https://localhost:8080/",
          "height": 472
        },
        "outputId": "d7f2b874-9a8e-4d24-e134-e9dcbfa0a5ef"
      },
      "execution_count": 24,
      "outputs": [
        {
          "output_type": "display_data",
          "data": {
            "text/plain": [
              "<Figure size 640x480 with 1 Axes>"
            ],
            "image/png": "[encoded data removed]"
          },
          "metadata": {}
        }
      ]
    },
    {
      "cell_type": "markdown",
      "source": [
        "# InceptonNet"
      ],
      "metadata": {
        "id": "yS-82Jw_7SLe"
      }
    },
    {
      "cell_type": "code",
      "source": [
        "inceptonnet = InceptionV3(include_top=False, weights='imagenet', input_shape=(img_size, img_size, 3))\n",
        "inceptonnet.trainable = False\n",
        "\n",
        "inceptonnet_model = Sequential()\n",
        "inceptonnet_model.add(inceptonnet)\n",
        "inceptonnet_model.add(Flatten())\n",
        "inceptonnet_model.add(Dense(256, activation='relu'))\n",
        "inceptonnet_model.add(Dropout(0.5))\n",
        "inceptonnet_model.add(Dense(1, activation='sigmoid'))"
      ],
      "metadata": {
        "id": "KoRta4En8Rjb"
      },
      "execution_count": 26,
      "outputs": []
    },
    {
      "cell_type": "code",
      "source": [
        "inceptonnet_model.summary()"
      ],
      "metadata": {
        "id": "4INCOu579Yuf",
        "colab": {
          "base_uri": "https://localhost:8080/"
        },
        "outputId": "07897312-0757-4e18-c9e7-7b929c486164"
      },
      "execution_count": 27,
      "outputs": [
        {
          "output_type": "stream",
          "name": "stdout",
          "text": [
            "Model: \"sequential_4\"\n",
            "_________________________________________________________________\n",
            " Layer (type)                Output Shape              Param #   \n",
            "=================================================================\n",
            " inception_v3 (Functional)   (None, 5, 5, 2048)        21802784  \n",
            "                                                                 \n",
            " flatten_3 (Flatten)         (None, 51200)             0         \n",
            "                                                                 \n",
            " dense_6 (Dense)             (None, 256)               13107456  \n",
            "                                                                 \n",
            " dropout_3 (Dropout)         (None, 256)               0         \n",
            "                                                                 \n",
            " dense_7 (Dense)             (None, 1)                 257       \n",
            "                                                                 \n",
            "=================================================================\n",
            "Total params: 34,910,497\n",
            "Trainable params: 13,107,713\n",
            "Non-trainable params: 21,802,784\n",
            "_________________________________________________________________\n"
          ]
        }
      ]
    },
    {
      "cell_type": "code",
      "source": [
        "inceptonnet_model.compile(optimizer=Adam(learning_rate=0.0001),\n",
        "              loss=tf.keras.losses.BinaryCrossentropy(from_logits=False),\n",
        "              metrics=['accuracy'])"
      ],
      "metadata": {
        "id": "uJ5Vs1lg9mKo"
      },
      "execution_count": 28,
      "outputs": []
    },
    {
      "cell_type": "code",
      "source": [
        "inceptonnet_history = inceptonnet_model.fit(train_data,\n",
        "                        epochs=5,\n",
        "                        # steps_per_epoch=len(train_data),\n",
        "                        validation_data=valid_data,\n",
        "                        # validation_steps=len(valid_data)\n",
        "                        )"
      ],
      "metadata": {
        "id": "Ja7dM5DW9mKp",
        "colab": {
          "base_uri": "https://localhost:8080/"
        },
        "outputId": "f1f8992b-427d-41ea-a560-22a050ade0f8"
      },
      "execution_count": 29,
      "outputs": [
        {
          "output_type": "stream",
          "name": "stdout",
          "text": [
            "Epoch 1/5\n",
            "31/31 [==============================] - 25s 561ms/step - loss: 0.2994 - accuracy: 0.9173 - val_loss: 0.0357 - val_accuracy: 0.9929\n",
            "Epoch 2/5\n",
            "31/31 [==============================] - 12s 376ms/step - loss: 0.0584 - accuracy: 0.9806 - val_loss: 0.0246 - val_accuracy: 0.9857\n",
            "Epoch 3/5\n",
            "31/31 [==============================] - 11s 367ms/step - loss: 0.0254 - accuracy: 0.9908 - val_loss: 0.0107 - val_accuracy: 1.0000\n",
            "Epoch 4/5\n",
            "31/31 [==============================] - 12s 381ms/step - loss: 0.0126 - accuracy: 0.9959 - val_loss: 0.0726 - val_accuracy: 0.9714\n",
            "Epoch 5/5\n",
            "31/31 [==============================] - 13s 405ms/step - loss: 0.0088 - accuracy: 0.9969 - val_loss: 0.0033 - val_accuracy: 1.0000\n"
          ]
        }
      ]
    },
    {
      "cell_type": "code",
      "source": [
        "show_history(inceptonnet_history)"
      ],
      "metadata": {
        "id": "l3rvJPSA9sVo",
        "colab": {
          "base_uri": "https://localhost:8080/",
          "height": 472
        },
        "outputId": "360bd010-fcf1-454f-ec27-ed675dbc52e4"
      },
      "execution_count": 30,
      "outputs": [
        {
          "output_type": "display_data",
          "data": {
            "text/plain": [
              "<Figure size 640x480 with 1 Axes>"
            ],
            "image/png": "[encoded data removed]"
          },
          "metadata": {}
        }
      ]
    },
    {
      "cell_type": "markdown",
      "source": [
        "# XceptionNet"
      ],
      "metadata": {
        "id": "yWuoaZoO-k7E"
      }
    },
    {
      "cell_type": "code",
      "source": [
        "xception = Xception(include_top=False, weights='imagenet', input_shape=(img_size, img_size, 3))\n",
        "xception.trainable = False\n",
        "\n",
        "xception_model = Sequential()\n",
        "xception_model.add(xception)\n",
        "xception_model.add(Flatten())\n",
        "xception_model.add(Dense(256, activation='relu'))\n",
        "xception_model.add(Dropout(0.5))\n",
        "xception_model.add(Dense(1, activation='sigmoid'))"
      ],
      "metadata": {
        "id": "MKwXdoNR-kZ8",
        "colab": {
          "base_uri": "https://localhost:8080/"
        },
        "outputId": "3b48a15e-047f-4f25-820b-d06f7944fb23"
      },
      "execution_count": 31,
      "outputs": [
        {
          "output_type": "stream",
          "name": "stdout",
          "text": [
            "Downloading data from https://storage.googleapis.com/tensorflow/keras-applications/xception/xception_weights_tf_dim_ordering_tf_kernels_notop.h5\n",
            "83683744/83683744 [==============================] - 4s 0us/step\n"
          ]
        }
      ]
    },
    {
      "cell_type": "code",
      "source": [
        "xception_model.summary()"
      ],
      "metadata": {
        "id": "eVkTojY5_QiX",
        "colab": {
          "base_uri": "https://localhost:8080/"
        },
        "outputId": "1cd5b0d8-6f21-421d-b89d-76cc3b775b82"
      },
      "execution_count": 32,
      "outputs": [
        {
          "output_type": "stream",
          "name": "stdout",
          "text": [
            "Model: \"sequential_5\"\n",
            "_________________________________________________________________\n",
            " Layer (type)                Output Shape              Param #   \n",
            "=================================================================\n",
            " xception (Functional)       (None, 7, 7, 2048)        20861480  \n",
            "                                                                 \n",
            " flatten_4 (Flatten)         (None, 100352)            0         \n",
            "                                                                 \n",
            " dense_8 (Dense)             (None, 256)               25690368  \n",
            "                                                                 \n",
            " dropout_4 (Dropout)         (None, 256)               0         \n",
            "                                                                 \n",
            " dense_9 (Dense)             (None, 1)                 257       \n",
            "                                                                 \n",
            "=================================================================\n",
            "Total params: 46,552,105\n",
            "Trainable params: 25,690,625\n",
            "Non-trainable params: 20,861,480\n",
            "_________________________________________________________________\n"
          ]
        }
      ]
    },
    {
      "cell_type": "code",
      "source": [
        "xception_model.compile(optimizer=Adam(learning_rate=0.0001),\n",
        "              loss=tf.keras.losses.BinaryCrossentropy(from_logits=False),\n",
        "              metrics=['accuracy'])"
      ],
      "metadata": {
        "id": "5rz3umHK_UIZ"
      },
      "execution_count": 33,
      "outputs": []
    },
    {
      "cell_type": "code",
      "source": [
        "xception_history = xception_model.fit(train_data,\n",
        "                        epochs=5,\n",
        "                        # steps_per_epoch=len(train_data),\n",
        "                        validation_data=valid_data,\n",
        "                        # validation_steps=len(valid_data)\n",
        "                        )"
      ],
      "metadata": {
        "id": "wcNKXi5Q_WuV",
        "colab": {
          "base_uri": "https://localhost:8080/"
        },
        "outputId": "ae63db70-130e-45fd-e3bb-6223384c32af"
      },
      "execution_count": 34,
      "outputs": [
        {
          "output_type": "stream",
          "name": "stdout",
          "text": [
            "Epoch 1/5\n",
            "31/31 [==============================] - 21s 492ms/step - loss: 0.2803 - accuracy: 0.9235 - val_loss: 0.0726 - val_accuracy: 0.9786\n",
            "Epoch 2/5\n",
            "31/31 [==============================] - 12s 400ms/step - loss: 0.0373 - accuracy: 0.9857 - val_loss: 0.0026 - val_accuracy: 1.0000\n",
            "Epoch 3/5\n",
            "31/31 [==============================] - 12s 390ms/step - loss: 0.0095 - accuracy: 0.9939 - val_loss: 8.2957e-04 - val_accuracy: 1.0000\n",
            "Epoch 4/5\n",
            "31/31 [==============================] - 12s 383ms/step - loss: 0.0063 - accuracy: 0.9969 - val_loss: 4.8510e-04 - val_accuracy: 1.0000\n",
            "Epoch 5/5\n",
            "31/31 [==============================] - 12s 384ms/step - loss: 0.0016 - accuracy: 1.0000 - val_loss: 4.5331e-04 - val_accuracy: 1.0000\n"
          ]
        }
      ]
    },
    {
      "cell_type": "code",
      "source": [
        "show_history(xception_history)"
      ],
      "metadata": {
        "id": "lxhjlFfe_aLC",
        "colab": {
          "base_uri": "https://localhost:8080/",
          "height": 472
        },
        "outputId": "aba171ec-1a27-44ed-82c3-6a68eeae4384"
      },
      "execution_count": 35,
      "outputs": [
        {
          "output_type": "display_data",
          "data": {
            "text/plain": [
              "<Figure size 640x480 with 1 Axes>"
            ],
            "image/png": "[encoded data removed]"
          },
          "metadata": {}
        }
      ]
    },
    {
      "cell_type": "markdown",
      "source": [
        "# Testing"
      ],
      "metadata": {
        "id": "v-cXKy8BAua-"
      }
    },
    {
      "cell_type": "code",
      "source": [
        "import math\n",
        "def accuracy_testing(model):\n",
        "  correct = 0\n",
        "  test_data.reset()\n",
        "  y = model.predict(test_data,steps= math.ceil(test_data.samples // 32),workers=8)\n",
        "  \n",
        "  pred = []\n",
        "  for i in y:\n",
        "    pred.append(i[0])\n",
        "\n",
        "  real = []\n",
        "  total_images = test_data.n  \n",
        "  steps = total_images // 32 \n",
        "  for i in range(steps):\n",
        "    a , b = test_data.next()\n",
        "    real.extend(b)\n",
        "\n",
        "  for i in range(len(pred)):\n",
        "    a = int(pred[i] > 0.5)\n",
        "    b = int(real[i])\n",
        "    if a == b:\n",
        "      correct += 1\n",
        "    \n",
        "  acc = correct / total_images\n",
        "  return acc\n"
      ],
      "metadata": {
        "id": "V5MhiguaAwsp"
      },
      "execution_count": 58,
      "outputs": []
    },
    {
      "cell_type": "code",
      "source": [
        "print(\"accuracy of testing set for xceptionNet: \", accuracy_testing(xception_model))\n",
        "print(\"accuracy of testing set for vgg16: \", accuracy_testing(vgg16_model)) \n",
        "print(\"accuracy of testing set for vgg19: \", accuracy_testing(vgg19_model)) \n",
        "print(\"accuracy of testing set for resnet50: \", accuracy_testing(resnet50_model)) \n",
        "print(\"accuracy of testing set for inceptonNet: \", accuracy_testing(inceptonnet_model)) \n"
      ],
      "metadata": {
        "colab": {
          "base_uri": "https://localhost:8080/"
        },
        "id": "UWjjXDoIVSgk",
        "outputId": "0bec57c2-a328-4866-b4dc-f184b70ac6c9"
      },
      "execution_count": 59,
      "outputs": [
        {
          "output_type": "stream",
          "name": "stdout",
          "text": [
            "8/8 [==============================] - 3s 147ms/step\n",
            "accuracy of testing set for xceptionNet:  0.4607142857142857\n",
            "8/8 [==============================] - 4s 146ms/step\n",
            "accuracy of testing set for vgg16:  0.5035714285714286\n",
            "8/8 [==============================] - 3s 163ms/step\n",
            "accuracy of testing set for vgg19:  0.48928571428571427\n",
            "8/8 [==============================] - 3s 117ms/step\n",
            "accuracy of testing set for resnet50:  0.4857142857142857\n",
            "8/8 [==============================] - 2s 77ms/step\n",
            "accuracy of testing set for inceptonNet:  0.4642857142857143\n"
          ]
        }
      ]
    }
  ]
}